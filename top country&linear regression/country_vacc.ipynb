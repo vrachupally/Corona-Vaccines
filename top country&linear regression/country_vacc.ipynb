{
 "cells": [
  {
   "cell_type": "code",
   "execution_count": 98,
   "metadata": {},
   "outputs": [],
   "source": [
    "import pandas as pd\n",
    "import pandas as pd\n",
    "import matplotlib.pyplot as plt\n",
    "import scipy.stats as sts\n",
    "import numpy as np\n",
    "from scipy.stats import linregress"
   ]
  },
  {
   "cell_type": "code",
   "execution_count": 3,
   "metadata": {},
   "outputs": [
    {
     "data": {
      "text/html": [
       "<div>\n",
       "<style scoped>\n",
       "    .dataframe tbody tr th:only-of-type {\n",
       "        vertical-align: middle;\n",
       "    }\n",
       "\n",
       "    .dataframe tbody tr th {\n",
       "        vertical-align: top;\n",
       "    }\n",
       "\n",
       "    .dataframe thead th {\n",
       "        text-align: right;\n",
       "    }\n",
       "</style>\n",
       "<table border=\"1\" class=\"dataframe\">\n",
       "  <thead>\n",
       "    <tr style=\"text-align: right;\">\n",
       "      <th></th>\n",
       "      <th>country</th>\n",
       "      <th>iso_code</th>\n",
       "      <th>date</th>\n",
       "      <th>total_vaccinations_x</th>\n",
       "      <th>people_vaccinated_x</th>\n",
       "      <th>people_fully_vaccinated_x</th>\n",
       "      <th>daily_vaccinations_raw</th>\n",
       "      <th>daily_vaccinations</th>\n",
       "      <th>total_vaccinations_per_hundred_x</th>\n",
       "      <th>people_vaccinated_per_hundred_x</th>\n",
       "      <th>...</th>\n",
       "      <th>gdp_per_capita</th>\n",
       "      <th>extreme_poverty</th>\n",
       "      <th>cardiovasc_death_rate</th>\n",
       "      <th>diabetes_prevalence</th>\n",
       "      <th>female_smokers</th>\n",
       "      <th>male_smokers</th>\n",
       "      <th>handwashing_facilities</th>\n",
       "      <th>hospital_beds_per_thousand</th>\n",
       "      <th>life_expectancy</th>\n",
       "      <th>human_development_index</th>\n",
       "    </tr>\n",
       "  </thead>\n",
       "  <tbody>\n",
       "    <tr>\n",
       "      <th>0</th>\n",
       "      <td>Algeria</td>\n",
       "      <td>DZA</td>\n",
       "      <td>1/29/2021</td>\n",
       "      <td>0.0</td>\n",
       "      <td>NaN</td>\n",
       "      <td>NaN</td>\n",
       "      <td>NaN</td>\n",
       "      <td>NaN</td>\n",
       "      <td>0.00</td>\n",
       "      <td>NaN</td>\n",
       "      <td>...</td>\n",
       "      <td>13913.839</td>\n",
       "      <td>0.5</td>\n",
       "      <td>278.364</td>\n",
       "      <td>6.73</td>\n",
       "      <td>0.7</td>\n",
       "      <td>30.4</td>\n",
       "      <td>83.741</td>\n",
       "      <td>1.9</td>\n",
       "      <td>76.88</td>\n",
       "      <td>0.754</td>\n",
       "    </tr>\n",
       "    <tr>\n",
       "      <th>1</th>\n",
       "      <td>Algeria</td>\n",
       "      <td>DZA</td>\n",
       "      <td>1/30/2021</td>\n",
       "      <td>30.0</td>\n",
       "      <td>NaN</td>\n",
       "      <td>NaN</td>\n",
       "      <td>30.0</td>\n",
       "      <td>30.0</td>\n",
       "      <td>0.00</td>\n",
       "      <td>NaN</td>\n",
       "      <td>...</td>\n",
       "      <td>13913.839</td>\n",
       "      <td>0.5</td>\n",
       "      <td>278.364</td>\n",
       "      <td>6.73</td>\n",
       "      <td>0.7</td>\n",
       "      <td>30.4</td>\n",
       "      <td>83.741</td>\n",
       "      <td>1.9</td>\n",
       "      <td>76.88</td>\n",
       "      <td>0.754</td>\n",
       "    </tr>\n",
       "    <tr>\n",
       "      <th>2</th>\n",
       "      <td>Andorra</td>\n",
       "      <td>AND</td>\n",
       "      <td>1/25/2021</td>\n",
       "      <td>576.0</td>\n",
       "      <td>576.0</td>\n",
       "      <td>NaN</td>\n",
       "      <td>NaN</td>\n",
       "      <td>NaN</td>\n",
       "      <td>0.75</td>\n",
       "      <td>0.75</td>\n",
       "      <td>...</td>\n",
       "      <td>NaN</td>\n",
       "      <td>NaN</td>\n",
       "      <td>109.135</td>\n",
       "      <td>7.97</td>\n",
       "      <td>29.0</td>\n",
       "      <td>37.8</td>\n",
       "      <td>NaN</td>\n",
       "      <td>NaN</td>\n",
       "      <td>83.73</td>\n",
       "      <td>0.858</td>\n",
       "    </tr>\n",
       "    <tr>\n",
       "      <th>3</th>\n",
       "      <td>Andorra</td>\n",
       "      <td>AND</td>\n",
       "      <td>1/26/2021</td>\n",
       "      <td>NaN</td>\n",
       "      <td>NaN</td>\n",
       "      <td>NaN</td>\n",
       "      <td>NaN</td>\n",
       "      <td>66.0</td>\n",
       "      <td>NaN</td>\n",
       "      <td>NaN</td>\n",
       "      <td>...</td>\n",
       "      <td>NaN</td>\n",
       "      <td>NaN</td>\n",
       "      <td>109.135</td>\n",
       "      <td>7.97</td>\n",
       "      <td>29.0</td>\n",
       "      <td>37.8</td>\n",
       "      <td>NaN</td>\n",
       "      <td>NaN</td>\n",
       "      <td>83.73</td>\n",
       "      <td>0.858</td>\n",
       "    </tr>\n",
       "    <tr>\n",
       "      <th>4</th>\n",
       "      <td>Andorra</td>\n",
       "      <td>AND</td>\n",
       "      <td>1/27/2021</td>\n",
       "      <td>NaN</td>\n",
       "      <td>NaN</td>\n",
       "      <td>NaN</td>\n",
       "      <td>NaN</td>\n",
       "      <td>66.0</td>\n",
       "      <td>NaN</td>\n",
       "      <td>NaN</td>\n",
       "      <td>...</td>\n",
       "      <td>NaN</td>\n",
       "      <td>NaN</td>\n",
       "      <td>109.135</td>\n",
       "      <td>7.97</td>\n",
       "      <td>29.0</td>\n",
       "      <td>37.8</td>\n",
       "      <td>NaN</td>\n",
       "      <td>NaN</td>\n",
       "      <td>83.73</td>\n",
       "      <td>0.858</td>\n",
       "    </tr>\n",
       "  </tbody>\n",
       "</table>\n",
       "<p>5 rows × 72 columns</p>\n",
       "</div>"
      ],
      "text/plain": [
       "   country iso_code       date  total_vaccinations_x  people_vaccinated_x  \\\n",
       "0  Algeria      DZA  1/29/2021                   0.0                  NaN   \n",
       "1  Algeria      DZA  1/30/2021                  30.0                  NaN   \n",
       "2  Andorra      AND  1/25/2021                 576.0                576.0   \n",
       "3  Andorra      AND  1/26/2021                   NaN                  NaN   \n",
       "4  Andorra      AND  1/27/2021                   NaN                  NaN   \n",
       "\n",
       "   people_fully_vaccinated_x  daily_vaccinations_raw  daily_vaccinations  \\\n",
       "0                        NaN                     NaN                 NaN   \n",
       "1                        NaN                    30.0                30.0   \n",
       "2                        NaN                     NaN                 NaN   \n",
       "3                        NaN                     NaN                66.0   \n",
       "4                        NaN                     NaN                66.0   \n",
       "\n",
       "   total_vaccinations_per_hundred_x  people_vaccinated_per_hundred_x  ...  \\\n",
       "0                              0.00                              NaN  ...   \n",
       "1                              0.00                              NaN  ...   \n",
       "2                              0.75                             0.75  ...   \n",
       "3                               NaN                              NaN  ...   \n",
       "4                               NaN                              NaN  ...   \n",
       "\n",
       "   gdp_per_capita  extreme_poverty cardiovasc_death_rate diabetes_prevalence  \\\n",
       "0       13913.839              0.5               278.364                6.73   \n",
       "1       13913.839              0.5               278.364                6.73   \n",
       "2             NaN              NaN               109.135                7.97   \n",
       "3             NaN              NaN               109.135                7.97   \n",
       "4             NaN              NaN               109.135                7.97   \n",
       "\n",
       "  female_smokers male_smokers handwashing_facilities  \\\n",
       "0            0.7         30.4                 83.741   \n",
       "1            0.7         30.4                 83.741   \n",
       "2           29.0         37.8                    NaN   \n",
       "3           29.0         37.8                    NaN   \n",
       "4           29.0         37.8                    NaN   \n",
       "\n",
       "   hospital_beds_per_thousand  life_expectancy  human_development_index  \n",
       "0                         1.9            76.88                    0.754  \n",
       "1                         1.9            76.88                    0.754  \n",
       "2                         NaN            83.73                    0.858  \n",
       "3                         NaN            83.73                    0.858  \n",
       "4                         NaN            83.73                    0.858  \n",
       "\n",
       "[5 rows x 72 columns]"
      ]
     },
     "execution_count": 3,
     "metadata": {},
     "output_type": "execute_result"
    }
   ],
   "source": [
    "country_df = pd.read_csv('resources/merged_df_no_iso_code.csv')\n",
    "country_df.head()"
   ]
  },
  {
   "cell_type": "code",
   "execution_count": 62,
   "metadata": {},
   "outputs": [],
   "source": [
    "country_df[\"total_vaccinations\"]=country_df[\"total_vaccinations_x\"].fillna(0)\n",
    "country_df[\"people_vaccinated\"]=country_df[\"people_vaccinated_x\"].fillna(0)\n",
    "country_df[\"people_fully_vaccinated\"]=country_df[\"people_fully_vaccinated_x\"].fillna(0)\n",
    "country_df[\"daily_vaccinations_raw\"]=country_df[\"daily_vaccinations_raw\"].fillna(0)\n",
    "country_df[\"daily_vaccinations\"]=country_df[\"daily_vaccinations\"].fillna(0)\n",
    "country_df[\"total_vaccinations_per_hundred\"]=country_df[\"total_vaccinations_per_hundred_x\"].fillna(0)\n",
    "country_df[\"people_vaccinated_per_hundred\"]=country_df[\"people_vaccinated_per_hundred_x\"].fillna(0)\n",
    "country_df[\"people_fully_vaccinated_per_hundred\"]=country_df[\"people_fully_vaccinated_per_hundred_x\"].fillna(0)\n",
    "country_df[\"daily_vaccinations_per_million\"]=country_df[\"daily_vaccinations_per_million\"].fillna(0)\n",
    "country_df[\"new_cases_smoothed\"]=country_df[\"new_cases_smoothed\"].fillna(0)\n",
    "country_df[\"people_fully_vaccinated_per_hundred_y\"]=country_df[\"people_fully_vaccinated_per_hundred_y\"].fillna(0)"
   ]
  },
  {
   "cell_type": "code",
   "execution_count": 63,
   "metadata": {},
   "outputs": [
    {
     "data": {
      "text/plain": [
       "Index(['country', 'iso_code', 'date', 'total_vaccinations_x',\n",
       "       'people_vaccinated_x', 'people_fully_vaccinated_x',\n",
       "       'daily_vaccinations_raw', 'daily_vaccinations',\n",
       "       'total_vaccinations_per_hundred_x', 'people_vaccinated_per_hundred_x',\n",
       "       'people_fully_vaccinated_per_hundred_x',\n",
       "       'daily_vaccinations_per_million', 'vaccines', 'source_name',\n",
       "       'source_website', 'continent', 'location', 'total_cases', 'new_cases',\n",
       "       'new_cases_smoothed', 'total_deaths', 'new_deaths',\n",
       "       'new_deaths_smoothed', 'total_cases_per_million',\n",
       "       'new_cases_per_million', 'new_cases_smoothed_per_million',\n",
       "       'total_deaths_per_million', 'new_deaths_per_million',\n",
       "       'new_deaths_smoothed_per_million', 'reproduction_rate', 'icu_patients',\n",
       "       'icu_patients_per_million', 'hosp_patients',\n",
       "       'hosp_patients_per_million', 'weekly_icu_admissions',\n",
       "       'weekly_icu_admissions_per_million', 'weekly_hosp_admissions',\n",
       "       'weekly_hosp_admissions_per_million', 'new_tests', 'total_tests',\n",
       "       'total_tests_per_thousand', 'new_tests_per_thousand',\n",
       "       'new_tests_smoothed', 'new_tests_smoothed_per_thousand',\n",
       "       'positive_rate', 'tests_per_case', 'tests_units',\n",
       "       'total_vaccinations_y', 'people_vaccinated_y',\n",
       "       'people_fully_vaccinated_y', 'new_vaccinations',\n",
       "       'new_vaccinations_smoothed', 'total_vaccinations_per_hundred_y',\n",
       "       'people_vaccinated_per_hundred_y',\n",
       "       'people_fully_vaccinated_per_hundred_y',\n",
       "       'new_vaccinations_smoothed_per_million', 'stringency_index',\n",
       "       'population', 'population_density', 'median_age', 'aged_65_older',\n",
       "       'aged_70_older', 'gdp_per_capita', 'extreme_poverty',\n",
       "       'cardiovasc_death_rate', 'diabetes_prevalence', 'female_smokers',\n",
       "       'male_smokers', 'handwashing_facilities', 'hospital_beds_per_thousand',\n",
       "       'life_expectancy', 'human_development_index', 'total_vaccinations',\n",
       "       'people_vaccinated', 'people_fully_vaccinated',\n",
       "       'total_vaccinations_per_hundred', 'people_vaccinated_per_hundred',\n",
       "       'people_fully_vaccinated_per_hundred'],\n",
       "      dtype='object')"
      ]
     },
     "execution_count": 63,
     "metadata": {},
     "output_type": "execute_result"
    }
   ],
   "source": [
    "country_df.columns"
   ]
  },
  {
   "cell_type": "code",
   "execution_count": 64,
   "metadata": {
    "scrolled": true
   },
   "outputs": [
    {
     "data": {
      "text/plain": [
       "country\n",
       "Israel                  571534.0\n",
       "Gibraltar               469237.0\n",
       "United Arab Emirates    257755.0\n",
       "Seychelles              255939.0\n",
       "United Kingdom          129205.0\n",
       "Name: daily_vaccinations_per_million, dtype: float64"
      ]
     },
     "execution_count": 64,
     "metadata": {},
     "output_type": "execute_result"
    }
   ],
   "source": [
    "country_group=country_df.groupby(\"country\").sum()\n",
    "country_million=country_group[\"daily_vaccinations_per_million\"]\n",
    "country_sort=country_million.sort_values(axis=0, ascending=False)\n",
    "country_top=country_sort.head(10)\n",
    "country_top.reset_index\n",
    "country_top.head()"
   ]
  },
  {
   "cell_type": "code",
   "execution_count": 65,
   "metadata": {},
   "outputs": [
    {
     "data": {
      "text/plain": [
       "<AxesSubplot:xlabel='country'>"
      ]
     },
     "execution_count": 65,
     "metadata": {},
     "output_type": "execute_result"
    },
    {
     "data": {
      "image/png": "[encoded data removed]",
      "text/plain": [
       "<Figure size 432x288 with 1 Axes>"
      ]
     },
     "metadata": {
      "needs_background": "light"
     },
     "output_type": "display_data"
    }
   ],
   "source": [
    "country_top.plot.bar()"
   ]
  },
  {
   "cell_type": "code",
   "execution_count": 94,
   "metadata": {},
   "outputs": [
    {
     "data": {
      "text/plain": [
       "<AxesSubplot:xlabel='country'>"
      ]
     },
     "execution_count": 94,
     "metadata": {},
     "output_type": "execute_result"
    },
    {
     "data": {
      "image/png": "[encoded data removed]",
      "text/plain": [
       "<Figure size 432x288 with 1 Axes>"
      ]
     },
     "metadata": {
      "needs_background": "light"
     },
     "output_type": "display_data"
    }
   ],
   "source": [
    "country_group=country_df.groupby(\"country\")\n",
    "country_hundred=country_group[\"total_vaccinations_per_hundred_y\"]\n",
    "country_total_hundred=country_hundred.apply(np.max)\n",
    "country_sorth=country_total_hundred.sort_values(axis=0, ascending=False)\n",
    "country_total=country_sorth.head(10)\n",
    "country_total.plot.bar()\n"
   ]
  },
  {
   "cell_type": "code",
   "execution_count": 87,
   "metadata": {},
   "outputs": [
    {
     "data": {
      "text/plain": [
       "<AxesSubplot:xlabel='country'>"
      ]
     },
     "execution_count": 87,
     "metadata": {},
     "output_type": "execute_result"
    },
    {
     "data": {
      "image/png": "[encoded data removed]",
      "text/plain": [
       "<Figure size 432x288 with 1 Axes>"
      ]
     },
     "metadata": {
      "needs_background": "light"
     },
     "output_type": "display_data"
    }
   ],
   "source": [
    "country_group=country_df.groupby(\"country\")\n",
    "country_fully_hundred=country_group[\"people_fully_vaccinated_per_hundred_y\"]\n",
    "country_fully=country_fully_hundred.apply(np.max)\n",
    "country_fully_sort=country_fully.sort_values(axis=0, ascending=False)\n",
    "country_fully_top=country_fully_sort.head(10)\n",
    "country_fully_top.plot.bar()\n"
   ]
  },
  {
   "cell_type": "code",
   "execution_count": 106,
   "metadata": {},
   "outputs": [
    {
     "data": {
      "text/plain": [
       "Text(10, 5750, 'y = 77.16x + 5601.75')"
      ]
     },
     "execution_count": 106,
     "metadata": {},
     "output_type": "execute_result"
    },
    {
     "data": {
      "image/png": "[encoded data removed]",
      "text/plain": [
       "<Figure size 432x288 with 1 Axes>"
      ]
     },
     "metadata": {
      "needs_background": "light"
     },
     "output_type": "display_data"
    }
   ],
   "source": [
    "israel_df=country_df.loc[country_df[\"country\"]==\"Israel\",:]\n",
    "x_values= israel_df['people_fully_vaccinated_per_hundred_y']\n",
    "y_values= israel_df['new_cases_smoothed']\n",
    "(slope, intercept, rvalue, pvalue, stderr) = linregress(x_values, y_values)\n",
    "regress_values = x_values * slope + intercept\n",
    "line_eq = \"y = \" + str(round(slope,2)) + \"x + \" + str(round(intercept,2))\n",
    "plt.plot(x_values,regress_values,\"r-\")\n",
    "plt.annotate(line_eq,(10,5750),fontsize=15,color=\"red\")\n"
   ]
  },
  {
   "cell_type": "code",
   "execution_count": 108,
   "metadata": {},
   "outputs": [
    {
     "data": {
      "text/plain": [
       "<AxesSubplot:xlabel='people_fully_vaccinated_per_hundred_y', ylabel='new_cases_smoothed'>"
      ]
     },
     "execution_count": 108,
     "metadata": {},
     "output_type": "execute_result"
    },
    {
     "data": {
      "image/png": "[encoded data removed]",
      "text/plain": [
       "<Figure size 432x288 with 1 Axes>"
      ]
     },
     "metadata": {
      "needs_background": "light"
     },
     "output_type": "display_data"
    }
   ],
   "source": [
    "israel_df.plot(kind=\"scatter\", x=\"people_fully_vaccinated_per_hundred_y\", y=\"new_cases_smoothed\")"
   ]
  },
  {
   "cell_type": "code",
   "execution_count": 109,
   "metadata": {},
   "outputs": [
    {
     "data": {
      "text/plain": [
       "<AxesSubplot:xlabel='daily_vaccinations_per_million', ylabel='new_cases_smoothed'>"
      ]
     },
     "execution_count": 109,
     "metadata": {},
     "output_type": "execute_result"
    },
    {
     "data": {
      "image/png": "[encoded data removed]",
      "text/plain": [
       "<Figure size 432x288 with 1 Axes>"
      ]
     },
     "metadata": {
      "needs_background": "light"
     },
     "output_type": "display_data"
    }
   ],
   "source": [
    "israel_df.plot(kind=\"scatter\", x=\"daily_vaccinations_per_million\", y=\"new_cases_smoothed\")"
   ]
  },
  {
   "cell_type": "code",
   "execution_count": null,
   "metadata": {},
   "outputs": [],
   "source": []
  }
 ],
 "metadata": {
  "kernelspec": {
   "display_name": "Python 3",
   "language": "python",
   "name": "python3"
  },
  "language_info": {
   "codemirror_mode": {
    "name": "ipython",
    "version": 3
   },
   "file_extension": ".py",
   "mimetype": "text/x-python",
   "name": "python",
   "nbconvert_exporter": "python",
   "pygments_lexer": "ipython3",
   "version": "3.8.5"
  }
 },
 "nbformat": 4,
 "nbformat_minor": 4
}
